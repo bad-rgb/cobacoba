{
  "cells": [
    {
      "cell_type": "markdown",
      "metadata": {
        "id": "1ybuVw-cfal1"
      },
      "source": [
        "# Prepare (required)"
      ]
    },
    {
      "cell_type": "code",
      "execution_count": null,
      "metadata": {
        "cellView": "form",
        "id": "i8nYpdcU5j8j"
      },
      "outputs": [],
      "source": [
        "#@markdown ## Save Mode\n",
        "\n",
        "saveMode = \"googleDrive\" #@param [\"temporary\", \"googleDrive\"] {\"type\": \"string\"}\n",
        "savePath = \"\"\n",
        "if saveMode.lower() == \"temporary\":\n",
        "  savePath = \"/content/\"\n",
        "else:\n",
        "  savePath = \"/content/drive/MyDrive/\""
      ]
    },
    {
      "cell_type": "code",
      "execution_count": null,
      "metadata": {
        "id": "m9kFWNwPQfiF"
      },
      "outputs": [],
      "source": [
        "#@markdown ## Mount to drive\n",
        "#@markdown ### If you use googleDrive mode then run this cell\n",
        "from google.colab import drive\n",
        "drive.mount('/content/drive', force_remount=True)"
      ]
    },
    {
      "cell_type": "code",
      "execution_count": null,
      "metadata": {
        "id": "K9Oy06MoSai2"
      },
      "outputs": [],
      "source": [
        "#@markdown ## Create Folder\n",
        "#@markdown #### Don't do this step if you have already setup a minecraft server in your drive\n",
        "import os, os.path\n",
        "if os.path.exists(savePath + \"minecraftServer\"):\n",
        "  print(\"Folder exists!\")\n",
        "else:\n",
        "  print(\"Creating Folder...\")\n",
        "  os.system(f\"mkdir \" + savePath + \"minecraftServer\")\n",
        "  print(\"Done!\")\n",
        "\n",
        "if os.path.exists(savePath + \"minecraftServer/java\"):\n",
        "  print(\"Folder exists!\")\n",
        "else:\n",
        "  print(\"Creating Folder...\")\n",
        "  os.system(\"mkdir \" + savePath + \"minecraftServer/java\")\n",
        "  print(\"Done!\")\n",
        "\n",
        "if os.path.exists(savePath + \"minecraftServer/bedrock\"):\n",
        "  print(\"Folder exists!\")\n",
        "else:\n",
        "  print(\"Creating Folder...\")\n",
        "  os.system(\"mkdir \" + savePath + \"minecraftServer/bedrock\")\n",
        "  print(\"Done!\")\n",
        "\n",
        "if os.path.exists(savePath + \"minecraftServer/config\"):\n",
        "  print(\"Folder exists!\")\n",
        "else:\n",
        "  print(\"Creating Folder...\")\n",
        "  os.system(\"mkdir \" + savePath + \"minecraftServer/config\")\n",
        "  print(\"Done!\")"
      ]
    },
    {
      "cell_type": "code",
      "execution_count": null,
      "metadata": {
        "id": "WHpjI5H7FuwR"
      },
      "outputs": [],
      "source": [
        "#@markdown ## Install requirements [Required]\n",
        "!pip install -U pyngrok\n",
        "!pip install -U minecraftVersions\n",
        "!curl -SsL https://playit-cloud.github.io/ppa/key.gpg | gpg --dearmor | sudo tee /etc/apt/trusted.gpg.d/playit.gpg >/dev/null\n",
        "!echo \"deb [signed-by=/etc/apt/trusted.gpg.d/playit.gpg] https://playit-cloud.github.io/ppa/data ./\" | sudo tee /etc/apt/sources.list.d/playit-cloud.list\n",
        "!sudo apt update\n",
        "!sudo apt install playit"
      ]
    },
    {
      "cell_type": "code",
      "execution_count": null,
      "metadata": {
        "id": "ubuAeLWLP-tq"
      },
      "outputs": [],
      "source": [
        "#@markdown ## Choose tunneling service [Required]\n",
        "service = \"playit\" #@param [\"ngrok\", \"playit\"] {type: \"string\"}"
      ]
    },
    {
      "cell_type": "code",
      "source": [
        "#@markdown # Set Ngrok token (Ngrok only)\n",
        "print(\"Get auth token from https://dashboard.ngrok.com/get-started/your-authtoken\")\n",
        "ngtoken = input()\n",
        "with open(savePath+\"minecraftServer/ngtoken.txt\", \"w\") as f:\n",
        "  f.write(ngtoken)"
      ],
      "metadata": {
        "id": "ED72FodmLB5H"
      },
      "execution_count": null,
      "outputs": []
    },
    {
      "cell_type": "code",
      "source": [
        "#@markdown # Setup playit.gg tunnel\n",
        "#@markdown #### Tip: Create \"Minecraft\" tunnel type.\n",
        "#@markdown #### \"Minecraft java\" for java server and \"Minecraft bedrock\" for bedrock server\n",
        "#@markdown #### Required if you haven't made any tunnel.\n",
        "!playit setup"
      ],
      "metadata": {
        "id": "osXEyNKbSOLH",
        "colab": {
          "base_uri": "https://localhost:8080/"
        },
        "outputId": "3379c671-a94f-4d9f-f3af-bf398c0dadd2"
      },
      "execution_count": 29,
      "outputs": [
        {
          "output_type": "stream",
          "name": "stdout",
          "text": [
            "shell-init: error retrieving current directory: getcwd: cannot access parent directories: Transport endpoint is not connected\n",
            "shell-init: error retrieving current directory: getcwd: cannot access parent directories: Transport endpoint is not connected\n",
            "\u001b8\u001b[0mVisit link to setup https://playit.gg/claim/2cb10cc589\u001b[2J\u001b8\u001b[0mApprove program at https://playit.gg/claim/2cb10cc589\u001b[2J\u001b8\u001b[0mApprove program at https://playit.gg/claim/2cb10cc589\u001b[2J\u001b8\u001b[0mProgram approved :). Secret code being setup.\u001b[2J\u001b8\u001b[0mPlayit setup, secret written to /etc/playit/playit.toml"
          ]
        }
      ]
    },
    {
      "cell_type": "code",
      "source": [
        "#@markdown ## Save playit.gg config to drive [optional]\n",
        "#@markdown #### You can save the config to load it again when start the server\n",
        "!rm -f \"$savePath\"minecraftServer/config/playit.toml\n",
        "!cp /etc/playit/playit.toml \"$savePath\"minecraftServer/config/playit.toml\n",
        "print(\"Done!\")"
      ],
      "metadata": {
        "id": "mmFimhbUTWPK",
        "colab": {
          "base_uri": "https://localhost:8080/"
        },
        "outputId": "d2a1bb81-49c5-42e0-aca1-ffad8d5f3375"
      },
      "execution_count": 28,
      "outputs": [
        {
          "output_type": "stream",
          "name": "stdout",
          "text": [
            "shell-init: error retrieving current directory: getcwd: cannot access parent directories: Transport endpoint is not connected\n",
            "shell-init: error retrieving current directory: getcwd: cannot access parent directories: Transport endpoint is not connected\n",
            "Done!\n"
          ]
        }
      ]
    },
    {
      "cell_type": "code",
      "source": [
        "from google.colab import drive\n",
        "drive.mount('/content/drive')"
      ],
      "metadata": {
        "id": "-WuR2OrI7eX2"
      },
      "execution_count": null,
      "outputs": []
    },
    {
      "cell_type": "code",
      "execution_count": null,
      "metadata": {
        "id": "h5RBQ5QHOon4"
      },
      "outputs": [],
      "source": [
        "#@markdown ## Discord Webhook (For announcing server IP) [optional] (Ngrok only)\n",
        "import getpass\n",
        "discordWebhook = getpass.getpass()\n",
        "with open(savePath+\"/minecraftServer/discordWebhook.txt\", \"w\") as f:\n",
        "  f.write(discordWebhook)"
      ]
    },
    {
      "cell_type": "markdown",
      "metadata": {
        "id": "GgVzzhLm_iZH"
      },
      "source": [
        "# For Minecraft Java Edition"
      ]
    },
    {
      "cell_type": "markdown",
      "metadata": {
        "id": "8U3Ngh1sd4EW"
      },
      "source": [
        "## 1. Update Java [Required]\n",
        "#### Choose one of these version to install."
      ]
    },
    {
      "cell_type": "code",
      "execution_count": null,
      "metadata": {
        "cellView": "form",
        "id": "bCE8hRcPcAjy"
      },
      "outputs": [],
      "source": [
        "#@markdown ## Java 16\n",
        "%cd /content/\n",
        "!wget https://files03.tchspt.com/down/jdk-16.0.2_linux-x64_bin.deb\n",
        "!sudo apt install /content/jdk-16.0.2_linux-x64_bin.deb\n",
        "!rm -rf /content/jdk-16.0.2_linux-x64_bin.deb\n",
        "import os\n",
        "os.environ[\"JAVA_HOME\"] = \"/usr/lib/jvm/jdk-16.0.2\"\n",
        "!update-alternatives --install /usr/bin/java java /usr/lib/jvm/jdk-16.0.2/bin/java 1919\n",
        "!java -version"
      ]
    },
    {
      "cell_type": "code",
      "execution_count": null,
      "metadata": {
        "cellView": "form",
        "id": "2s3IMgpTlImC"
      },
      "outputs": [],
      "source": [
        "#@markdown ## Java 17 (Paper 1.18 and above)\n",
        "%cd /content/\n",
        "!wget https://download.oracle.com/java/17/archive/jdk-17.0.6_linux-x64_bin.deb\n",
        "!sudo apt install /content/jdk-17.0.6_linux-x64_bin.deb\n",
        "!rm -rf /content/jdk-17.0.6_linux-x64_bin.deb\n",
        "import os\n",
        "os.environ[\"JAVA_HOME\"] = \"/usr/lib/jvm/jdk-17\"\n",
        "!update-alternatives --install /usr/bin/java java /usr/lib/jvm/jdk-17/bin/java 1919\n",
        "!java -version"
      ]
    },
    {
      "cell_type": "code",
      "execution_count": null,
      "metadata": {
        "cellView": "form",
        "id": "OLpGFhTADcm3"
      },
      "outputs": [],
      "source": [
        "#@markdown ## Java 19 (Latest version)\n",
        "%cd /content/\n",
        "!wget https://download.oracle.com/java/19/latest/jdk-19_linux-x64_bin.deb\n",
        "!sudo apt install /content/jdk-19_linux-x64_bin.deb\n",
        "!rm -rf /content/jdk-19_linux-x64_bin.deb\n",
        "import os\n",
        "os.environ[\"JAVA_HOME\"] = \"/usr/lib/jvm/jdk-19\"\n",
        "!update-alternatives --install /usr/bin/java java /usr/lib/jvm/jdk-19/bin/java 1919\n",
        "!java -version"
      ]
    },
    {
      "cell_type": "markdown",
      "metadata": {
        "id": "5Chi7SmnZwAv"
      },
      "source": [
        "## 3. Download server software (click the arrow to expand)\n",
        "#### Warning: Don't do this step if you already setup a minecraft server in your drive"
      ]
    },
    {
      "cell_type": "code",
      "execution_count": null,
      "metadata": {
        "cellView": "form",
        "id": "Ui2XV_wohTru",
        "collapsed": true
      },
      "outputs": [],
      "source": [
        "#@markdown ## 2. Set config\n",
        "#@markdown ### Run the cell to change the config\n",
        "import ipywidgets as widgets\n",
        "from IPython.display import display\n",
        "import minecraftVersions as MCVersion\n",
        "import requests\n",
        "\n",
        "serverType = \"paper\" #@param [\"vanilla\", \"paper\"]\n",
        "\n",
        "mc = MCVersion.MCVersion()\n",
        "\n",
        "javaServerDownloadUrl = mc.latest().release().server().url\n",
        "vanillaVersionGui = widgets.Dropdown(\n",
        "    options=mc.getAllVersions().toList(),\n",
        "    value=mc.latest().release().version,\n",
        "    description='MC Version:',\n",
        ")\n",
        "\n",
        "paperlist = requests.get(\"https://papermc.io/api/v2/projects/paper\").json()[\"versions\"]\n",
        "paperVersion = paperlist[-1]\n",
        "paperVersionGui = widgets.Dropdown(\n",
        "    options=paperlist,\n",
        "    value=paperVersion,\n",
        "    description='PaperMC Version:',\n",
        ")\n",
        "\n",
        "saveButton = widgets.Button(description=\"Save\")\n",
        "def save_config(*arg):\n",
        "  global vanillaVersionGui\n",
        "  global javaServerDownloadUrl\n",
        "  global paperVersion\n",
        "  javaServerDownloadUrl = mc.getVersion(vanillaVersionGui.value).server().url\n",
        "  paperVersion = paperVersionGui.value\n",
        "  print(\"Saved\")\n",
        "\n",
        "saveButton.on_click(save_config)\n",
        "\n",
        "if serverType == \"vanilla\":\n",
        "  display(vanillaVersionGui)\n",
        "else:\n",
        "  display(paperVersionGui)\n",
        "display(saveButton)"
      ]
    },
    {
      "cell_type": "code",
      "execution_count": null,
      "metadata": {
        "cellView": "form",
        "id": "eWOwZyM84Til"
      },
      "outputs": [],
      "source": [
        "#@markdown ## Vanilla\n",
        "\n",
        "import os, os.path\n",
        "if os.path.exists(savePath + \"minecraftServer/java/vanilla\"):\n",
        "  print(\"Folder exists!\")\n",
        "else:\n",
        "  print(\"Creating Folder...\")\n",
        "  os.system(\"mkdir \" + savePath + \"minecraftServer/java/vanilla\")\n",
        "  print(\"Downloading java server...\")\n",
        "  os.system(f\"wget {javaServerDownloadUrl} -O {savePath}/minecraftServer/java/vanilla/server.jar\")\n",
        "  print(\"Done!\")"
      ]
    },
    {
      "cell_type": "code",
      "execution_count": null,
      "metadata": {
        "cellView": "form",
        "id": "JgJnXR4LZptu"
      },
      "outputs": [],
      "source": [
        "#@markdown ## PaperMC\n",
        "\n",
        "import os, os.path\n",
        "import json\n",
        "import requests\n",
        "\n",
        "res = requests.get(\"https://api.papermc.io/v2/projects/paper/versions/{}/builds/\".format(paperVersion))\n",
        "latestBuild = res.json()[\"builds\"][-1]\n",
        "paperDownloadUrl = \"https://api.papermc.io/v2/projects/paper/versions/{}/builds/{}/downloads/{}\".format(paperVersion, latestBuild[\"build\"], latestBuild[\"downloads\"][\"application\"][\"name\"])\n",
        "if os.path.exists(savePath + \"minecraftServer/java/paper\"):\n",
        "  print(\"Folder exists!\")\n",
        "else:\n",
        "  print(\"Creating Folder...\")\n",
        "  os.system(\"mkdir \" + savePath + \"minecraftServer/java/paper\")\n",
        "  print(\"Downloading java server...\")\n",
        "  os.system(f\"wget {paperDownloadUrl} -O {savePath}minecraftServer/java/paper/server.jar\")\n",
        "  print(\"Done!\")"
      ]
    },
    {
      "cell_type": "markdown",
      "metadata": {
        "id": "29N43vyCZ8dL"
      },
      "source": [
        "## 4. Start the server (Java)"
      ]
    },
    {
      "cell_type": "code",
      "execution_count": null,
      "metadata": {
        "id": "B5L_HvpfFy9k",
        "cellView": "form"
      },
      "outputs": [],
      "source": [
        "#@markdown #### Make you you have set the tunneling service in previous step!\n",
        "#@markdown #### Server Region also Ngrok only.\n",
        "import pyngrok\n",
        "from pyngrok import ngrok, conf\n",
        "import getpass\n",
        "import requests\n",
        "import os\n",
        "import threading\n",
        "import time\n",
        "\n",
        "%cd /content/\n",
        "\n",
        "def getData(path):\n",
        "  try:\n",
        "    return open(path, \"r\").read().replace(\"\\n\", \"\")\n",
        "  except:\n",
        "    return \"\"\n",
        "\n",
        "def getServerProp(fp,p):\n",
        "    with open(fp, \"r\") as f:\n",
        "        for i in f.read().splitlines():\n",
        "            if i[0] != \"#\":\n",
        "                k,v = i.split(\"=\")\n",
        "                if p == k:\n",
        "                    return v\n",
        "\n",
        "loadPlayitConfig = False #@param {type: \"boolean\"}\n",
        "webhookUrl = getData(savePath + \"minecraftServer/discordWebhook.txt\")\n",
        "\n",
        "auth_token = getData(savePath + \"minecraftServer/ngtoken.txt\")\n",
        "serverRegion = \"ap\" #@param [\"us\", \"eu\", \"ap\", \"au\", \"sa\", \"jp\", \"in\"] {type: \"string\"}\n",
        "software = \"paper\" #@param [\"vanilla\", \"paper\"] {type: \"string\"}\n",
        "memory = 11 #@param {type: \"slider\", min: 1, max: 12, step: 1}\n",
        "try:\n",
        "  serverPort = int(getServerProp(f\"{savePath}minecraftServer/java/{software}/server.properties\", \"server-port\"))\n",
        "except:\n",
        "  serverPort = 25565\n",
        "\n",
        "if service == \"ngrok\":\n",
        "  if auth_token:\n",
        "    !ngrok authtoken \"$auth_token\"\n",
        "  else:\n",
        "    raise ValueError(\"Failed to get ngrok token!\")\n",
        "  conf.get_default().region = serverRegion\n",
        "\n",
        "  client = ngrok.connect(serverPort, 'tcp')\n",
        "  serverip = ((str(client).split('\"')[1::2])[0]).replace('tcp://', '')\n",
        "  print(\"Server IP: \" + serverip)\n",
        "  sendWebhook = requests.post(webhookUrl, json={\n",
        "    \"username\": \"Server Status\",\n",
        "    \"content\": \"**Server IP:** `{}`\".format(serverip)\n",
        "  })\n",
        "  print(\"Successfully sent the IP to the discord server!\" if sendWebhook.status_code == 204 else \"Failed to send the IP to the discord server! [{}]\".format(sendWebhook.status_code))\n",
        "\n",
        "%cd $savePath\"/minecraftServer/java/\"$software\n",
        "with open(f\"{savePath}minecraftServer/java/{software}/eula.txt\", \"w\") as f:\n",
        "  f.write(\"eula=true\")\n",
        "  f.close()\n",
        "\n",
        "def playitThread():\n",
        "  print(\"Playit thread started!\")\n",
        "  os.system(\"playit\")\n",
        "\n",
        "if service == \"playit\":\n",
        "  if loadPlayitConfig:\n",
        "    !rm -f /etc/playit/playit.toml\n",
        "    !cp \"$savePath\"minecraftServer/config/playit.toml /etc/playit/playit.toml\n",
        "    print(\"Loaded Playit.gg config!\")\n",
        "  threading.Thread(target=playitThread).start()\n",
        "  time.sleep(1)\n",
        "!java -Xms\"$memory\"G -Xmx\"$memory\"G -jar \"$savePath\"minecraftServer/java/$software/server.jar nogui"
      ]
    },
    {
      "cell_type": "markdown",
      "metadata": {
        "id": "3mkqXIPR_dh8"
      },
      "source": [
        "# For Minecraft Bedrock"
      ]
    },
    {
      "cell_type": "code",
      "execution_count": 2,
      "metadata": {
        "id": "dGRupyxw5wbE",
        "colab": {
          "base_uri": "https://localhost:8080/",
          "height": 98,
          "referenced_widgets": [
            "9df700981ee24deea6f81b3465a01f17",
            "03e0f41b839e43e6b820885051bc7e0f",
            "ec42a21f855f495195df5c8b9219cff6",
            "3cd216bba50349a6b518247bb0a99228",
            "f5a8424886694f36940abb8fb63230d8",
            "48d89feeb04a4444887206027ebdbc6b"
          ]
        },
        "outputId": "9dbf14f8-ba68-4023-9842-a1e1373d2acc"
      },
      "outputs": [
        {
          "output_type": "stream",
          "name": "stdout",
          "text": [
            "/content\n"
          ]
        },
        {
          "output_type": "display_data",
          "data": {
            "text/plain": [
              "Dropdown(description='MC Version:', options=('1.20.81.01', '1.21.0.23', '1.21.0.24', '1.21.0.25', '1.21.0.26',…"
            ],
            "application/vnd.jupyter.widget-view+json": {
              "version_major": 2,
              "version_minor": 0,
              "model_id": "9df700981ee24deea6f81b3465a01f17"
            }
          },
          "metadata": {}
        },
        {
          "output_type": "display_data",
          "data": {
            "text/plain": [
              "Button(description='Download', style=ButtonStyle())"
            ],
            "application/vnd.jupyter.widget-view+json": {
              "version_major": 2,
              "version_minor": 0,
              "model_id": "3cd216bba50349a6b518247bb0a99228"
            }
          },
          "metadata": {}
        }
      ],
      "source": [
        "#@markdown ## 1. Download bedrock server\n",
        "import ipywidgets as widgets\n",
        "from IPython.display import display\n",
        "import requests\n",
        "\n",
        "versions = {}\n",
        "\n",
        "res = requests.get(\"https://raw.githubusercontent.com/tungdo0602/Minecraft-BDS-db/main/versions.json\")\n",
        "if res.status_code == 200:\n",
        "  versions = res.json()\n",
        "\n",
        "%cd /content/\n",
        "\n",
        "versionsList = list(versions.keys())\n",
        "\n",
        "bedrockVerGui = widgets.Dropdown(\n",
        "    options=versionsList,\n",
        "    value=versionsList[0],\n",
        "    description='MC Version:',\n",
        ")\n",
        "\n",
        "downloadBnt = widgets.Button(description=\"Download\")\n",
        "def downloadMC(*arg):\n",
        "  global bedrockVerGui\n",
        "  url = versions[bedrockVerGui.value][\"Linux\"]\n",
        "  !wget \"$url\" -O /content/bedrockServer.zip\n",
        "  !mkdir \"$savePath\"minecraftServer/bedrock/vanilla\n",
        "  !unzip bedrockServer.zip -d \"$savePath\"minecraftServer/bedrock/vanilla\n",
        "  !rm -rf /content/bedrockServer.zip\n",
        "  print(\"Done!\")\n",
        "downloadBnt.on_click(downloadMC)\n",
        "display(bedrockVerGui)\n",
        "display(downloadBnt)"
      ]
    },
    {
      "cell_type": "code",
      "execution_count": 3,
      "metadata": {
        "id": "F9Y2TZ2SAG1d",
        "colab": {
          "base_uri": "https://localhost:8080/"
        },
        "outputId": "9ba5f877-b55b-45f2-d241-4a4140ed58d6"
      },
      "outputs": [
        {
          "output_type": "stream",
          "name": "stdout",
          "text": [
            "[Errno 2] No such file or directory: '$savePathminecraftServer/bedrock/vanilla'\n",
            "/content\n",
            "cp: cannot stat 'minecraftServer/config/playit.toml': No such file or directory\n",
            "Loaded Playit.gg config!\n",
            "Starting playit.gg tunnel...\n",
            "Playit thread started!\n",
            "/bin/bash: line 1: ./bedrock_server: No such file or directory\n"
          ]
        }
      ],
      "source": [
        "#@markdown ## 2. Start The Server (Bedrock)\n",
        "import pyngrok\n",
        "from pyngrok import ngrok, conf\n",
        "import threading\n",
        "import os\n",
        "import time\n",
        "\n",
        "def getData(path):\n",
        "  try:\n",
        "    return open(path, \"r\").read().replace(\"\\n\", \"\")\n",
        "  except:\n",
        "    return \"\"\n",
        "\n",
        "%cd \"$savePath\"minecraftServer/bedrock/vanilla\n",
        "loadPlayitConfig = True #@param {type: \"boolean\"}\n",
        "def playitThread():\n",
        "  print(\"Playit thread started!\")\n",
        "  os.system(\"playit\")\n",
        "\n",
        "if loadPlayitConfig:\n",
        "  !rm -f /etc/playit/playit.toml\n",
        "  !cp \"$savePath\"minecraftServer/config/playit.toml /etc/playit/playit.toml\n",
        "  print(\"Loaded Playit.gg config!\")\n",
        "\n",
        "print(\"Starting playit.gg tunnel...\")\n",
        "threading.Thread(target=playitThread).start()\n",
        "time.sleep(1)\n",
        "!LD_LIBRARY_PATH=. ./bedrock_server"
      ]
    },
    {
      "cell_type": "markdown",
      "metadata": {
        "id": "ywkpaKyuijEs"
      },
      "source": [
        "# Tools"
      ]
    },
    {
      "cell_type": "code",
      "execution_count": null,
      "metadata": {
        "colab": {
          "base_uri": "https://localhost:8080/"
        },
        "id": "7ENkrdeCis3H",
        "outputId": "aa0b0226-fee9-46d2-910f-eeca7a4d4320"
      },
      "outputs": [
        {
          "name": "stdout",
          "output_type": "stream",
          "text": [
            "Fetching data from https://mediafilez.forgecdn.net/files/3348/374/OpenInv.jar\n",
            "Done! Saved to /content/drive/MyDrive/minecraftServer/java/paper/plugins\n"
          ]
        }
      ],
      "source": [
        "#@markdown ## Quick add plugin (Paper)\n",
        "\n",
        "import os, os.path\n",
        "\n",
        "pluginUrl = \"https://mediafilez.forgecdn.net/files/3348/374/OpenInv.jar\" #@param {type: \"string\"}\n",
        "\n",
        "def downloadPlugin():\n",
        "  global pluginUrl\n",
        "  if pluginUrl:\n",
        "    print(\"Fetching data from {}\".format(pluginUrl))\n",
        "    os.system(f\"wget {pluginUrl} -P {savePath}minecraftServer/java/paper/plugins/\")\n",
        "    print(f\"Done! Saved to {savePath}minecraftServer/java/paper/plugins\")\n",
        "  else:\n",
        "    print(\"Invaild URL!\")\n",
        "\n",
        "if os.path.exists(savePath + \"minecraftServer/java/paper/plugins\"):\n",
        "  downloadPlugin()\n",
        "else:\n",
        "  os.system(\"mkdir \" + savePath + \"minecraftServer/java/paper/plugins\")\n",
        "  downloadPlugin()\n"
      ]
    }
  ],
  "metadata": {
    "colab": {
      "collapsed_sections": [
        "ywkpaKyuijEs"
      ],
      "provenance": [],
      "toc_visible": true
    },
    "gpuClass": "standard",
    "kernelspec": {
      "display_name": "Python 3",
      "name": "python3"
    },
    "language_info": {
      "name": "python"
    },
    "widgets": {
      "application/vnd.jupyter.widget-state+json": {
        "9df700981ee24deea6f81b3465a01f17": {
          "model_module": "@jupyter-widgets/controls",
          "model_name": "DropdownModel",
          "model_module_version": "1.5.0",
          "state": {
            "_dom_classes": [],
            "_model_module": "@jupyter-widgets/controls",
            "_model_module_version": "1.5.0",
            "_model_name": "DropdownModel",
            "_options_labels": [
              "1.20.81.01",
              "1.21.0.23",
              "1.21.0.24",
              "1.21.0.25",
              "1.21.0.26",
              "1.21.10.20",
              "1.21.10.21",
              "1.21.10.22",
              "1.21.10.23",
              "1.21.0.03",
              "1.21.10.24",
              "1.21.1.03",
              "1.21.20.21",
              "1.21.2.02",
              "1.21.20.22",
              "1.21.3.01",
              "1.21.20.23",
              "1.21.20.24",
              "1.21.30.21",
              "1.21.30.22",
              "1.21.20.03",
              "1.21.30.23",
              "1.21.30.24",
              "1.21.22.01",
              "1.21.30.25",
              "1.21.23.01",
              "1.21.40.20",
              "1.21.40.21",
              "1.21.30.03",
              "1.21.40.22",
              "1.21.40.23",
              "1.21.31.04",
              "1.21.40.25",
              "1.21.50.20",
              "1.21.50.22",
              "1.21.50.24",
              "1.21.40.03",
              "1.21.41.01",
              "1.21.50.25",
              "1.21.42.01",
              "1.21.43.01",
              "1.21.50.26",
              "1.21.44.01",
              "1.21.50.28",
              "1.21.50.29",
              "1.21.60.21",
              "1.21.60.22",
              "1.21.50.07",
              "1.21.50.10",
              "1.21.60.23",
              "1.21.51.01",
              "1.21.51.02",
              "1.21.60.24",
              "1.21.60.25",
              "1.21.60.26",
              "1.21.60.27",
              "1.21.60.28",
              "1.21.70.20",
              "1.21.70.21",
              "1.21.70.22",
              "1.21.60.10",
              "1.21.70.23",
              "1.21.61.01",
              "1.21.70.24",
              "1.21.62.01",
              "1.21.70.25",
              "1.21.70.26",
              "1.21.80.20",
              "1.21.80.21",
              "1.21.70.04",
              "1.21.80.22",
              "1.21.71.01",
              "1.21.80.26",
              "1.21.72.01",
              "1.21.80.27",
              "1.21.73.01",
              "1.21.80.28",
              "1.21.90.20",
              "1.21.90.21",
              "1.21.90.22",
              "1.21.80.3",
              "1.21.90.23",
              "1.21.90.25",
              "1.21.81.2",
              "1.21.82.1",
              "1.21.90.26",
              "1.21.83.1",
              "1.21.90.27",
              "1.21.90.28",
              "1.21.84.1",
              "1.21.100.20"
            ],
            "_view_count": null,
            "_view_module": "@jupyter-widgets/controls",
            "_view_module_version": "1.5.0",
            "_view_name": "DropdownView",
            "description": "MC Version:",
            "description_tooltip": null,
            "disabled": false,
            "index": 0,
            "layout": "IPY_MODEL_03e0f41b839e43e6b820885051bc7e0f",
            "style": "IPY_MODEL_ec42a21f855f495195df5c8b9219cff6"
          }
        },
        "03e0f41b839e43e6b820885051bc7e0f": {
          "model_module": "@jupyter-widgets/base",
          "model_name": "LayoutModel",
          "model_module_version": "1.2.0",
          "state": {
            "_model_module": "@jupyter-widgets/base",
            "_model_module_version": "1.2.0",
            "_model_name": "LayoutModel",
            "_view_count": null,
            "_view_module": "@jupyter-widgets/base",
            "_view_module_version": "1.2.0",
            "_view_name": "LayoutView",
            "align_content": null,
            "align_items": null,
            "align_self": null,
            "border": null,
            "bottom": null,
            "display": null,
            "flex": null,
            "flex_flow": null,
            "grid_area": null,
            "grid_auto_columns": null,
            "grid_auto_flow": null,
            "grid_auto_rows": null,
            "grid_column": null,
            "grid_gap": null,
            "grid_row": null,
            "grid_template_areas": null,
            "grid_template_columns": null,
            "grid_template_rows": null,
            "height": null,
            "justify_content": null,
            "justify_items": null,
            "left": null,
            "margin": null,
            "max_height": null,
            "max_width": null,
            "min_height": null,
            "min_width": null,
            "object_fit": null,
            "object_position": null,
            "order": null,
            "overflow": null,
            "overflow_x": null,
            "overflow_y": null,
            "padding": null,
            "right": null,
            "top": null,
            "visibility": null,
            "width": null
          }
        },
        "ec42a21f855f495195df5c8b9219cff6": {
          "model_module": "@jupyter-widgets/controls",
          "model_name": "DescriptionStyleModel",
          "model_module_version": "1.5.0",
          "state": {
            "_model_module": "@jupyter-widgets/controls",
            "_model_module_version": "1.5.0",
            "_model_name": "DescriptionStyleModel",
            "_view_count": null,
            "_view_module": "@jupyter-widgets/base",
            "_view_module_version": "1.2.0",
            "_view_name": "StyleView",
            "description_width": ""
          }
        },
        "3cd216bba50349a6b518247bb0a99228": {
          "model_module": "@jupyter-widgets/controls",
          "model_name": "ButtonModel",
          "model_module_version": "1.5.0",
          "state": {
            "_dom_classes": [],
            "_model_module": "@jupyter-widgets/controls",
            "_model_module_version": "1.5.0",
            "_model_name": "ButtonModel",
            "_view_count": null,
            "_view_module": "@jupyter-widgets/controls",
            "_view_module_version": "1.5.0",
            "_view_name": "ButtonView",
            "button_style": "",
            "description": "Download",
            "disabled": false,
            "icon": "",
            "layout": "IPY_MODEL_f5a8424886694f36940abb8fb63230d8",
            "style": "IPY_MODEL_48d89feeb04a4444887206027ebdbc6b",
            "tooltip": ""
          }
        },
        "f5a8424886694f36940abb8fb63230d8": {
          "model_module": "@jupyter-widgets/base",
          "model_name": "LayoutModel",
          "model_module_version": "1.2.0",
          "state": {
            "_model_module": "@jupyter-widgets/base",
            "_model_module_version": "1.2.0",
            "_model_name": "LayoutModel",
            "_view_count": null,
            "_view_module": "@jupyter-widgets/base",
            "_view_module_version": "1.2.0",
            "_view_name": "LayoutView",
            "align_content": null,
            "align_items": null,
            "align_self": null,
            "border": null,
            "bottom": null,
            "display": null,
            "flex": null,
            "flex_flow": null,
            "grid_area": null,
            "grid_auto_columns": null,
            "grid_auto_flow": null,
            "grid_auto_rows": null,
            "grid_column": null,
            "grid_gap": null,
            "grid_row": null,
            "grid_template_areas": null,
            "grid_template_columns": null,
            "grid_template_rows": null,
            "height": null,
            "justify_content": null,
            "justify_items": null,
            "left": null,
            "margin": null,
            "max_height": null,
            "max_width": null,
            "min_height": null,
            "min_width": null,
            "object_fit": null,
            "object_position": null,
            "order": null,
            "overflow": null,
            "overflow_x": null,
            "overflow_y": null,
            "padding": null,
            "right": null,
            "top": null,
            "visibility": null,
            "width": null
          }
        },
        "48d89feeb04a4444887206027ebdbc6b": {
          "model_module": "@jupyter-widgets/controls",
          "model_name": "ButtonStyleModel",
          "model_module_version": "1.5.0",
          "state": {
            "_model_module": "@jupyter-widgets/controls",
            "_model_module_version": "1.5.0",
            "_model_name": "ButtonStyleModel",
            "_view_count": null,
            "_view_module": "@jupyter-widgets/base",
            "_view_module_version": "1.2.0",
            "_view_name": "StyleView",
            "button_color": null,
            "font_weight": ""
          }
        }
      }
    }
  },
  "nbformat": 4,
  "nbformat_minor": 0
}